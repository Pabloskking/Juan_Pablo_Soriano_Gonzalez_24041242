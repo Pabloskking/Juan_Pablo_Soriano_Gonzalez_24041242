{
  "nbformat": 4,
  "nbformat_minor": 0,
  "metadata": {
    "colab": {
      "provenance": [],
      "authorship_tag": "ABX9TyPQIjWxlLGd4ESBc7uHjR8b",
      "include_colab_link": true
    },
    "kernelspec": {
      "name": "python3",
      "display_name": "Python 3"
    },
    "language_info": {
      "name": "python"
    }
  },
  "cells": [
    {
      "cell_type": "markdown",
      "metadata": {
        "id": "view-in-github",
        "colab_type": "text"
      },
      "source": [
        "<a href=\"https://colab.research.google.com/github/Pabloskking/Juan_Pablo_Soriano_Gonzalez_24041242/blob/main/Practica_1.ipynb\" target=\"_parent\"><img src=\"https://colab.research.google.com/assets/colab-badge.svg\" alt=\"Open In Colab\"/></a>"
      ]
    },
    {
      "cell_type": "markdown",
      "source": [
        "#Importar la librería statistics"
      ],
      "metadata": {
        "id": "Pon96VaSThst"
      }
    },
    {
      "cell_type": "code",
      "execution_count": 10,
      "metadata": {
        "id": "Dkm9_taITO5s"
      },
      "outputs": [],
      "source": [
        "from statistics import *"
      ]
    },
    {
      "cell_type": "markdown",
      "source": [
        "#Ejemplo 1: Registro de calificaciones de 12  alumnos"
      ],
      "metadata": {
        "id": "ZIHaAuPWTxsv"
      }
    },
    {
      "cell_type": "code",
      "source": [
        "# Lista de calificaciones del grupo a de probabilidad y estadística\n",
        "\n",
        "grupoa = [70, 70, 65, 90, 100, 95, 45, 80, 73, 20, 100, 96]\n",
        "print(grupoa)"
      ],
      "metadata": {
        "colab": {
          "base_uri": "https://localhost:8080/"
        },
        "id": "nOG9dpFvUGbE",
        "outputId": "a7ddb266-7bb5-44ab-f576-5f2bbcdffd96"
      },
      "execution_count": 1,
      "outputs": [
        {
          "output_type": "stream",
          "name": "stdout",
          "text": [
            "[70, 70, 65, 90, 100, 95, 45, 80, 73, 20, 100, 96]\n"
          ]
        }
      ]
    },
    {
      "cell_type": "code",
      "source": [
        "# la función type nos devuelve el tipo de dato de la variable\n",
        "type(grupoa)"
      ],
      "metadata": {
        "colab": {
          "base_uri": "https://localhost:8080/"
        },
        "id": "wJU8181rUfRP",
        "outputId": "3dd0e041-6353-4e8c-96cb-b209eb66c353"
      },
      "execution_count": 2,
      "outputs": [
        {
          "output_type": "execute_result",
          "data": {
            "text/plain": [
              "list"
            ]
          },
          "metadata": {},
          "execution_count": 2
        }
      ]
    },
    {
      "cell_type": "markdown",
      "source": [
        "##Determinar la media del ejemplo 1"
      ],
      "metadata": {
        "id": "91WYkwn-UqJ0"
      }
    },
    {
      "cell_type": "code",
      "source": [
        "# Sacar la media de las calificaciones con una fórmula\n",
        "# La función len, me regresa la longitud de la lista\n",
        "\n",
        "promedio = sum(grupoa) / len(grupoa)\n",
        "print(promedio)"
      ],
      "metadata": {
        "colab": {
          "base_uri": "https://localhost:8080/"
        },
        "id": "b-BY9MI0U4kq",
        "outputId": "d2fa3505-3cc6-4779-9e42-e96fa0d88d6e"
      },
      "execution_count": 4,
      "outputs": [
        {
          "output_type": "stream",
          "name": "stdout",
          "text": [
            "75.33333333333333\n"
          ]
        }
      ]
    },
    {
      "cell_type": "code",
      "source": [
        "# Utilizar la funcion mean que esta en la librería statistics para sacar\n",
        "# el promedio\n",
        "\n",
        "promedio2 = mean(grupoa)\n",
        "print(promedio2)"
      ],
      "metadata": {
        "colab": {
          "base_uri": "https://localhost:8080/"
        },
        "id": "BCuXcZ9AVbdx",
        "outputId": "a9273e20-c898-467a-88bb-344be3f5d3e4"
      },
      "execution_count": 9,
      "outputs": [
        {
          "output_type": "stream",
          "name": "stdout",
          "text": [
            "75.33333333333333\n"
          ]
        }
      ]
    },
    {
      "cell_type": "markdown",
      "source": [
        "##Determinar la mediana del ejemplo 1"
      ],
      "metadata": {
        "id": "ab_fghtPWLY9"
      }
    },
    {
      "cell_type": "code",
      "source": [
        "# Determinar el valor de la mediana con la funcion median\n",
        "\n",
        "mediana = median(grupoa)\n",
        "print(mediana)"
      ],
      "metadata": {
        "colab": {
          "base_uri": "https://localhost:8080/"
        },
        "id": "CFNkhm07WTN2",
        "outputId": "f995d914-7c4d-4866-cadf-1766a6abe75a"
      },
      "execution_count": 11,
      "outputs": [
        {
          "output_type": "stream",
          "name": "stdout",
          "text": [
            "76.5\n"
          ]
        }
      ]
    },
    {
      "cell_type": "markdown",
      "source": [
        "##Determinar la moda del ejemplo 1"
      ],
      "metadata": {
        "id": "q4WRRtBRWx7s"
      }
    },
    {
      "cell_type": "code",
      "source": [
        "# Determinar el valor de la moda con la funcion mode\n",
        "\n",
        "moda = mode(grupoa)\n",
        "print(moda)"
      ],
      "metadata": {
        "colab": {
          "base_uri": "https://localhost:8080/"
        },
        "id": "ZkGwdKtxW-Ki",
        "outputId": "0c3adbbf-eb5c-4351-a57b-cb4ebc510b6b"
      },
      "execution_count": 12,
      "outputs": [
        {
          "output_type": "stream",
          "name": "stdout",
          "text": [
            "70\n"
          ]
        }
      ]
    },
    {
      "cell_type": "code",
      "source": [
        "# En caso de que allá mas de una moda usar la funcion multimode\n",
        "\n",
        "moda2 = multimode(grupoa)\n",
        "print(moda2)"
      ],
      "metadata": {
        "colab": {
          "base_uri": "https://localhost:8080/"
        },
        "id": "EZ5Qt47GXrFB",
        "outputId": "830b7aed-4bb8-4008-f1a6-c9b9a84a5ddb"
      },
      "execution_count": 14,
      "outputs": [
        {
          "output_type": "stream",
          "name": "stdout",
          "text": [
            "[70, 100]\n"
          ]
        }
      ]
    },
    {
      "cell_type": "markdown",
      "source": [
        "#Ejemplo 2. Tiempos de 100 metros de un grupo de 12 alumnos"
      ],
      "metadata": {
        "id": "Gic3EstPXM-3"
      }
    },
    {
      "cell_type": "code",
      "source": [
        "# Definimos una variable llamada tiempos100mts de tipo lista, que contiene los\n",
        "# tiempos que tardan los 10 alumnos para correr los 100 metros\n",
        "\n",
        "tiempos100mts = [15.10, 17.20, 14.69, 13.27, 22.15, 18.71, 19.15, 20.65, 15.10, 17.20]\n",
        "\n",
        "# Desplegamos los valores de la lista\n",
        "\n",
        "print(tiempos100mts)"
      ],
      "metadata": {
        "colab": {
          "base_uri": "https://localhost:8080/"
        },
        "id": "apGNLd-yYb3-",
        "outputId": "912325f0-c234-45c2-e2a1-2355817be59a"
      },
      "execution_count": 15,
      "outputs": [
        {
          "output_type": "stream",
          "name": "stdout",
          "text": [
            "[15.1, 17.2, 14.69, 13.27, 22.15, 18.71, 19.15, 20.65, 15.1, 17.2]\n"
          ]
        }
      ]
    },
    {
      "cell_type": "markdown",
      "source": [
        "##Funcion mean para calcular el promedio"
      ],
      "metadata": {
        "id": "njLWU2k5ZBZA"
      }
    },
    {
      "cell_type": "code",
      "source": [
        "# Usamos la funcion mean para determinar el tiempo promedio de la lista de valores\n",
        "\n",
        "print(\"El tiempo promedio de los corredores es=>\", mean(tiempos100mts) )"
      ],
      "metadata": {
        "colab": {
          "base_uri": "https://localhost:8080/"
        },
        "id": "vC6IupmPZGAl",
        "outputId": "5e87ef69-8bb4-4a9d-d41e-561b0bb8c200"
      },
      "execution_count": 17,
      "outputs": [
        {
          "output_type": "stream",
          "name": "stdout",
          "text": [
            "El tiempo promedio de los corredores es=> 17.322\n"
          ]
        }
      ]
    },
    {
      "cell_type": "markdown",
      "source": [
        "##Funcion median para calcular la mediana"
      ],
      "metadata": {
        "id": "9eY45MZPZxFd"
      }
    },
    {
      "cell_type": "code",
      "source": [
        "# Usamos la funcion median para determinar el tiempo promedio de la lista de valores\n",
        "\n",
        "# definimos una variable llamada mediana para calcular la mediana de la lista con la funcion\n",
        "# median\n",
        "\n",
        "mediana = median(tiempos100mts)\n",
        "print(\"la media de los tiempos de los corredores es=>\", mediana )"
      ],
      "metadata": {
        "colab": {
          "base_uri": "https://localhost:8080/"
        },
        "id": "Fgy-KDgBaDtk",
        "outputId": "b4e85cc5-f3f1-40ef-d4e2-c86fa23c9d39"
      },
      "execution_count": 18,
      "outputs": [
        {
          "output_type": "stream",
          "name": "stdout",
          "text": [
            "la media de los tiempos de los corredores es=> 17.2\n"
          ]
        }
      ]
    },
    {
      "cell_type": "markdown",
      "source": [
        "##Funcion mode para calcular la moda"
      ],
      "metadata": {
        "id": "IqrPzki7agys"
      }
    },
    {
      "cell_type": "code",
      "source": [
        "# Definimos una variable llamada moda para calcular la moda de la lista con la funcion\n",
        "# mode\n",
        "\n",
        "moda = mode(tiempos100mts)\n",
        "print(\"La moda de los tiempos es=>\", moda)"
      ],
      "metadata": {
        "colab": {
          "base_uri": "https://localhost:8080/"
        },
        "id": "_ApclYpZak-w",
        "outputId": "b9b2f18c-0e46-49e5-db4f-43e805625cb2"
      },
      "execution_count": 21,
      "outputs": [
        {
          "output_type": "stream",
          "name": "stdout",
          "text": [
            "La moda de los tiempos es=> 15.1\n"
          ]
        }
      ]
    },
    {
      "cell_type": "markdown",
      "source": [
        "##Funcion multimode para calcular múltiples modas"
      ],
      "metadata": {
        "id": "TLa33USZbLyx"
      }
    },
    {
      "cell_type": "code",
      "source": [
        "multimodas = multimode(tiempos100mts)\n",
        "print(\"La moda de los tiempos es=>\", multimodas)"
      ],
      "metadata": {
        "colab": {
          "base_uri": "https://localhost:8080/"
        },
        "id": "9__nIYRwbUbg",
        "outputId": "c061c079-69a6-49fd-a151-388962127341"
      },
      "execution_count": 23,
      "outputs": [
        {
          "output_type": "stream",
          "name": "stdout",
          "text": [
            "La moda de los tiempos es=> [15.1, 17.2]\n"
          ]
        }
      ]
    },
    {
      "cell_type": "markdown",
      "source": [
        "#Ejemplo 3: Histogramas de 2 grupos"
      ],
      "metadata": {
        "id": "WkUX-0H4biK2"
      }
    },
    {
      "cell_type": "code",
      "source": [
        "# Librería para generar numeros aleatorios\n",
        "import random"
      ],
      "metadata": {
        "id": "VzmN9q1mbluD"
      },
      "execution_count": 24,
      "outputs": []
    },
    {
      "cell_type": "code",
      "source": [
        "fabrica1 = []\n",
        "for i in range(100):\n",
        "    numero_aleatorio = round(random.uniform(50, 100), 2)\n",
        "    fabrica1.append(numero_aleatorio)\n",
        "print(fabrica1)"
      ],
      "metadata": {
        "colab": {
          "base_uri": "https://localhost:8080/"
        },
        "id": "4GAGAgtWb8th",
        "outputId": "962d20ca-95bb-4304-97e8-15a45415b4bc"
      },
      "execution_count": 25,
      "outputs": [
        {
          "output_type": "stream",
          "name": "stdout",
          "text": [
            "[60.67, 95.21, 61.42, 87.91, 68.73, 53.39, 99.45, 89.73, 74.27, 84.76, 57.77, 95.21, 55.42, 72.84, 86.03, 51.44, 67.75, 55.76, 95.96, 93.72, 80.53, 61.39, 60.9, 75.59, 54.45, 97.62, 52.36, 55.88, 60.35, 88.71, 56.1, 83.47, 55.12, 82.46, 85.8, 96.96, 78.2, 88.02, 98.78, 87.63, 72.27, 54.96, 58.66, 55.84, 64.15, 56.77, 50.76, 78.03, 66.22, 77.67, 71.88, 88.68, 86.5, 66.87, 90.11, 97.94, 69.49, 72.07, 55.33, 99.41, 61.1, 97.01, 70.23, 57.03, 94.56, 84.45, 79.14, 99.72, 74.98, 65.02, 73.77, 98.33, 99.11, 91.42, 59.6, 54.44, 53.04, 79.08, 75.88, 63.44, 68.94, 73.2, 91.24, 89.84, 71.64, 88.77, 56.56, 70.48, 99.21, 79.58, 75.17, 61.23, 60.97, 71.85, 82.7, 64.42, 69.75, 91.65, 66.92, 86.11]\n"
          ]
        }
      ]
    },
    {
      "cell_type": "code",
      "source": [
        "fabrica2 = []\n",
        "for i in range(100):\n",
        "    numero_aleatorio2 = round( random.uniform(50, 100), 2)\n",
        "    fabrica2.append(numero_aleatorio2)\n",
        "print(fabrica2)"
      ],
      "metadata": {
        "colab": {
          "base_uri": "https://localhost:8080/"
        },
        "id": "pJSlCiNqdNH_",
        "outputId": "4edd1785-cbe9-49a2-e11a-69d8cfe878ec"
      },
      "execution_count": 27,
      "outputs": [
        {
          "output_type": "stream",
          "name": "stdout",
          "text": [
            "[59.16, 97.59, 64.06, 60.2, 94.3, 95.29, 92.65, 65.9, 81.3, 84.24, 69.42, 67.63, 58.88, 95.66, 73.1, 84.75, 70.11, 85.38, 65.75, 50.99, 90.4, 57.72, 98.53, 86.48, 82.68, 90.62, 65.47, 91.05, 54.98, 56.7, 63.09, 86.08, 63.02, 51.92, 50.63, 53.9, 80.03, 58.13, 66.95, 73.41, 96.09, 54.12, 71.18, 67.55, 57.94, 62.21, 58.3, 55.41, 82.52, 96.42, 70.37, 78.84, 79.26, 83.55, 50.07, 91.41, 89.61, 52.31, 95.74, 96.96, 73.38, 75.99, 98.55, 64.65, 55.37, 85.4, 55.55, 63.79, 72.63, 90.18, 51.01, 63.4, 85.75, 93.84, 80.34, 50.72, 84.25, 72.67, 85.45, 89.54, 77.82, 56.1, 92.1, 50.88, 89.02, 83.6, 84.69, 66.76, 56.99, 72.53, 73.95, 58.42, 85.82, 91.65, 55.21, 82.2, 76.92, 52.58, 68.32, 92.44]\n"
          ]
        }
      ]
    },
    {
      "cell_type": "code",
      "source": [
        "# librería de python para graficar valores\n",
        "import matplotlib.pyplot as plt"
      ],
      "metadata": {
        "id": "wEwvSx5td07m"
      },
      "execution_count": 28,
      "outputs": []
    },
    {
      "cell_type": "code",
      "source": [
        "plt.hist(fabrica1)\n",
        "plt.title(\"Producción diara de la fábrica 1\")"
      ],
      "metadata": {
        "colab": {
          "base_uri": "https://localhost:8080/",
          "height": 295
        },
        "id": "ubZxxGKgeI0g",
        "outputId": "154ea7ca-4ab1-424b-d116-2bb3dcd92b52"
      },
      "execution_count": 29,
      "outputs": [
        {
          "output_type": "execute_result",
          "data": {
            "text/plain": [
              "Text(0.5, 1.0, 'Producción diara de la fábrica 1')"
            ]
          },
          "metadata": {},
          "execution_count": 29
        },
        {
          "output_type": "display_data",
          "data": {
            "text/plain": [
              "<Figure size 640x480 with 1 Axes>"
            ],
            "image/png": "[encoded data removed]"
          },
          "metadata": {}
        }
      ]
    },
    {
      "cell_type": "code",
      "source": [
        "plt.hist(fabrica2)\n",
        "plt.title(\"Producción diara de la fábrica 2\")"
      ],
      "metadata": {
        "colab": {
          "base_uri": "https://localhost:8080/",
          "height": 294
        },
        "id": "N1yaQulPebX9",
        "outputId": "285610ca-13f1-4cd7-99d0-5f8fe55aebf8"
      },
      "execution_count": 31,
      "outputs": [
        {
          "output_type": "execute_result",
          "data": {
            "text/plain": [
              "Text(0.5, 1.0, 'Producción diara de la fábrica 2')"
            ]
          },
          "metadata": {},
          "execution_count": 31
        },
        {
          "output_type": "display_data",
          "data": {
            "text/plain": [
              "<Figure size 640x480 with 1 Axes>"
            ],
            "image/png": "[encoded data removed]"
          },
          "metadata": {}
        }
      ]
    }
  ]
}